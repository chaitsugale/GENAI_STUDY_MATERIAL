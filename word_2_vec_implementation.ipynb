{
  "nbformat": 4,
  "nbformat_minor": 0,
  "metadata": {
    "colab": {
      "provenance": [],
      "gpuType": "T4",
      "authorship_tag": "ABX9TyOeU2s106Mh6kJYOmz30CJN",
      "include_colab_link": true
    },
    "kernelspec": {
      "name": "python3",
      "display_name": "Python 3"
    },
    "language_info": {
      "name": "python"
    },
    "accelerator": "GPU"
  },
  "cells": [
    {
      "cell_type": "markdown",
      "metadata": {
        "id": "view-in-github",
        "colab_type": "text"
      },
      "source": [
        "<a href=\"https://colab.research.google.com/github/chaitsugale/GENAI_STUDY_MATERIAL/blob/main/word_2_vec_implementation.ipynb\" target=\"_parent\"><img src=\"https://colab.research.google.com/assets/colab-badge.svg\" alt=\"Open In Colab\"/></a>"
      ]
    },
    {
      "cell_type": "code",
      "execution_count": 1,
      "metadata": {
        "id": "Z0if_LVgQMPY"
      },
      "outputs": [],
      "source": [
        "import gensim"
      ]
    },
    {
      "cell_type": "code",
      "source": [
        "from gensim import downloader"
      ],
      "metadata": {
        "id": "db4GldnLRP-6"
      },
      "execution_count": 2,
      "outputs": []
    },
    {
      "cell_type": "markdown",
      "source": [
        "#Downloading a pre trained word2vec original google model"
      ],
      "metadata": {
        "id": "MhYulLdRRYyC"
      }
    },
    {
      "cell_type": "code",
      "source": [
        "model = downloader.load(\"word2vec-google-news-300\")"
      ],
      "metadata": {
        "id": "XLpgiks6RUi_"
      },
      "execution_count": 3,
      "outputs": []
    },
    {
      "cell_type": "code",
      "source": [
        "model[\"crazy\"]"
      ],
      "metadata": {
        "colab": {
          "base_uri": "https://localhost:8080/"
        },
        "id": "ZX4ysZ_oUC6y",
        "outputId": "b1f7b922-58a2-4442-bb6e-6036e3049791"
      },
      "execution_count": 4,
      "outputs": [
        {
          "output_type": "execute_result",
          "data": {
            "text/plain": [
              "array([ 3.06396484e-02, -1.91650391e-02,  3.88183594e-02,  2.22656250e-01,\n",
              "       -1.74560547e-02, -1.26342773e-02,  1.25976562e-01, -1.24023438e-01,\n",
              "        6.73828125e-02,  5.93261719e-02,  1.84326172e-02, -1.87500000e-01,\n",
              "       -9.42382812e-02, -2.36328125e-01, -2.07031250e-01,  1.00585938e-01,\n",
              "        7.12890625e-02,  6.59179688e-02,  6.39648438e-02, -1.25000000e-01,\n",
              "        2.77099609e-02,  9.33837891e-03,  4.46777344e-02, -1.10473633e-02,\n",
              "        1.73828125e-01,  1.91406250e-01,  7.56835938e-02, -4.46777344e-02,\n",
              "        9.37500000e-02, -1.46484375e-01,  1.09863281e-02,  2.35351562e-01,\n",
              "        2.36328125e-01,  6.25000000e-02,  1.17187500e-02, -8.83789062e-02,\n",
              "        2.24609375e-01, -1.10839844e-01,  5.15136719e-02,  3.76953125e-01,\n",
              "        3.71093750e-01, -2.92968750e-01,  3.53515625e-01, -1.13281250e-01,\n",
              "       -3.24218750e-01, -9.17968750e-02, -2.18505859e-02, -2.40234375e-01,\n",
              "        6.29882812e-02,  7.71484375e-02, -4.60937500e-01,  2.79296875e-01,\n",
              "       -1.29882812e-01, -5.00488281e-03, -1.38671875e-01,  9.52148438e-02,\n",
              "        5.22460938e-02, -1.25000000e-01,  9.42382812e-02, -2.38281250e-01,\n",
              "        7.86132812e-02, -8.93554688e-02, -1.74560547e-02, -6.64062500e-02,\n",
              "        1.11328125e-01,  1.30004883e-02,  8.10546875e-02,  3.85742188e-02,\n",
              "       -2.22656250e-01,  7.62939453e-03,  1.60156250e-01, -1.08398438e-01,\n",
              "        3.88183594e-02,  2.06054688e-01, -3.47656250e-01,  3.31115723e-03,\n",
              "        1.27563477e-02,  2.96630859e-02,  4.98046875e-02,  2.27539062e-01,\n",
              "       -9.46044922e-03,  2.14843750e-02, -3.44238281e-02, -1.01928711e-02,\n",
              "       -2.08007812e-01, -2.89306641e-02, -1.17187500e-01,  3.65234375e-01,\n",
              "       -6.67572021e-04, -1.10351562e-01, -1.44531250e-01,  3.75000000e-01,\n",
              "       -2.31445312e-01, -2.87109375e-01, -1.15234375e-01,  1.88476562e-01,\n",
              "        1.32812500e-01,  4.51660156e-02,  3.24707031e-02,  1.56250000e-01,\n",
              "       -1.06445312e-01,  1.44531250e-01, -9.57031250e-02,  1.69677734e-02,\n",
              "        6.29882812e-02,  1.20117188e-01, -6.59179688e-02, -2.53906250e-01,\n",
              "        4.12597656e-02, -2.17773438e-01, -5.76171875e-02, -1.86767578e-02,\n",
              "       -1.46484375e-01, -4.54711914e-03,  2.36328125e-01, -3.47656250e-01,\n",
              "       -1.32812500e-01, -1.27929688e-01,  9.61914062e-02, -1.90429688e-01,\n",
              "       -1.71875000e-01,  4.93164062e-02,  8.98437500e-02, -1.75781250e-02,\n",
              "        1.74560547e-02, -1.62109375e-01, -2.73437500e-01,  9.22851562e-02,\n",
              "       -2.63671875e-02, -5.41992188e-02, -2.15820312e-01, -1.79687500e-01,\n",
              "        1.99218750e-01,  1.23535156e-01, -9.47265625e-02,  1.02539062e-01,\n",
              "        6.64062500e-02,  2.18750000e-01, -7.95898438e-02,  1.53320312e-01,\n",
              "        7.76367188e-02, -5.32226562e-02,  1.38671875e-01,  1.76757812e-01,\n",
              "        1.11694336e-02,  2.26562500e-01, -9.76562500e-02,  4.12597656e-02,\n",
              "       -8.74023438e-02, -3.30078125e-01,  2.08007812e-01,  2.04101562e-01,\n",
              "       -2.65625000e-01,  1.25000000e-01, -2.85644531e-02, -1.85546875e-02,\n",
              "       -7.17773438e-02, -6.49414062e-02, -9.82666016e-03, -1.51367188e-01,\n",
              "       -1.55273438e-01,  4.29687500e-02,  1.04980469e-01,  1.10839844e-01,\n",
              "        7.86132812e-02, -2.02148438e-01,  1.99218750e-01, -2.01171875e-01,\n",
              "        1.59179688e-01,  9.08203125e-02, -1.24023438e-01,  1.21459961e-02,\n",
              "        1.33789062e-01,  9.52148438e-02, -1.81640625e-01,  1.99218750e-01,\n",
              "       -3.07617188e-02,  1.63574219e-02, -1.40625000e-01,  5.85937500e-02,\n",
              "       -1.26953125e-01, -2.94921875e-01,  6.49414062e-02,  9.47265625e-02,\n",
              "        1.16699219e-01,  8.97216797e-03, -1.48437500e-01,  8.54492188e-02,\n",
              "       -6.64062500e-02, -1.11816406e-01,  1.99218750e-01,  3.26171875e-01,\n",
              "        9.27734375e-02, -9.94873047e-03, -4.63867188e-02,  1.06933594e-01,\n",
              "       -8.44726562e-02, -2.03857422e-02, -3.39843750e-01, -6.98242188e-02,\n",
              "        1.66992188e-01,  1.58203125e-01, -2.84423828e-02, -1.13769531e-01,\n",
              "        1.55273438e-01,  6.15234375e-02, -1.37939453e-02,  3.17382812e-02,\n",
              "       -1.45507812e-01,  8.74023438e-02,  1.08886719e-01, -1.28173828e-02,\n",
              "        7.42187500e-02, -5.76171875e-02, -6.83593750e-02,  3.44238281e-02,\n",
              "        1.45507812e-01, -2.15530396e-04, -2.96875000e-01, -4.80957031e-02,\n",
              "       -4.51660156e-02,  1.15234375e-01,  9.52148438e-02, -1.12304688e-02,\n",
              "        1.90429688e-01, -5.44433594e-02,  3.11279297e-02,  1.58203125e-01,\n",
              "       -1.98242188e-01,  7.42187500e-02,  2.58789062e-02,  1.34765625e-01,\n",
              "        1.79687500e-01, -1.34887695e-02,  5.24902344e-02,  2.46582031e-02,\n",
              "        9.86328125e-02, -1.01318359e-02,  1.95312500e-02, -2.96630859e-02,\n",
              "        2.57812500e-01,  9.96093750e-02, -2.07031250e-01, -3.80859375e-02,\n",
              "       -4.22363281e-02,  1.16699219e-01, -2.19726562e-01, -1.61132812e-01,\n",
              "        6.83593750e-02, -1.96289062e-01,  3.36914062e-02,  1.50390625e-01,\n",
              "        2.01171875e-01,  4.02343750e-01, -2.25830078e-02, -2.37304688e-01,\n",
              "       -2.05078125e-01, -2.50000000e-01,  3.54003906e-02, -2.73437500e-01,\n",
              "       -1.00097656e-01, -6.17675781e-02, -3.32031250e-02,  7.47070312e-02,\n",
              "       -1.57226562e-01,  1.38671875e-01,  8.54492188e-03, -8.30078125e-02,\n",
              "       -4.80957031e-02,  2.51464844e-02, -1.04980469e-01,  2.57812500e-01,\n",
              "        5.11718750e-01,  8.98437500e-02,  1.24511719e-01, -2.28515625e-01,\n",
              "       -8.44726562e-02,  1.36718750e-01, -2.81982422e-02,  1.55273438e-01,\n",
              "        2.15820312e-01, -3.78417969e-02, -1.61132812e-01, -1.54418945e-02,\n",
              "        1.42578125e-01, -3.93066406e-02, -1.02539062e-01, -2.57812500e-01,\n",
              "        6.83593750e-02, -9.57031250e-02,  1.37695312e-01,  2.34375000e-01,\n",
              "       -1.50390625e-01,  9.82666016e-03, -2.01171875e-01, -1.61132812e-01,\n",
              "        1.96289062e-01, -6.16455078e-03, -2.47802734e-02,  1.00097656e-01],\n",
              "      dtype=float32)"
            ]
          },
          "metadata": {},
          "execution_count": 4
        }
      ]
    },
    {
      "cell_type": "code",
      "source": [
        "len(model[\"crazy\"])"
      ],
      "metadata": {
        "colab": {
          "base_uri": "https://localhost:8080/"
        },
        "id": "3Shq9cEQT2Ly",
        "outputId": "8b099a69-6a19-4224-91e4-71107b8b2941"
      },
      "execution_count": 5,
      "outputs": [
        {
          "output_type": "execute_result",
          "data": {
            "text/plain": [
              "300"
            ]
          },
          "metadata": {},
          "execution_count": 5
        }
      ]
    },
    {
      "cell_type": "code",
      "source": [
        "model.most_similar(\"human\")"
      ],
      "metadata": {
        "colab": {
          "base_uri": "https://localhost:8080/"
        },
        "id": "foUChg13RmVp",
        "outputId": "ba474ada-864e-4adc-baaf-857ab69a3d52"
      },
      "execution_count": 6,
      "outputs": [
        {
          "output_type": "execute_result",
          "data": {
            "text/plain": [
              "[('human_beings', 0.6139679551124573),\n",
              " ('humans', 0.5917960405349731),\n",
              " ('impertinent_flamboyant_endearingly', 0.5868303179740906),\n",
              " ('employee_Laura_Althouse', 0.5639359354972839),\n",
              " ('humankind', 0.5636306405067444),\n",
              " ('Human', 0.5524994134902954),\n",
              " ('mankind', 0.5346406102180481),\n",
              " ('Christine_Gaugler_head', 0.5272535681724548),\n",
              " ('humanity', 0.5262271165847778),\n",
              " ('sentient_intelligent', 0.5201493501663208)]"
            ]
          },
          "metadata": {},
          "execution_count": 6
        }
      ]
    },
    {
      "cell_type": "code",
      "source": [
        "model.most_similar(\"facebook\")"
      ],
      "metadata": {
        "colab": {
          "base_uri": "https://localhost:8080/"
        },
        "id": "S5XA6dUbS31Z",
        "outputId": "9d7fdf7d-d135-4364-cb10-e706f979d834"
      },
      "execution_count": 8,
      "outputs": [
        {
          "output_type": "execute_result",
          "data": {
            "text/plain": [
              "[('Facebook', 0.7563533186912537),\n",
              " ('FaceBook', 0.7076998949050903),\n",
              " ('twitter', 0.6988552212715149),\n",
              " ('myspace', 0.6941817998886108),\n",
              " ('Twitter', 0.664244532585144),\n",
              " ('twitter_facebook', 0.6572229862213135),\n",
              " ('Facebook.com', 0.6529868245124817),\n",
              " ('myspace_facebook', 0.6370643973350525),\n",
              " ('facebook_twitter', 0.6367618441581726),\n",
              " ('linkedin', 0.6356592774391174)]"
            ]
          },
          "metadata": {},
          "execution_count": 8
        }
      ]
    },
    {
      "cell_type": "code",
      "source": [
        "model.similarity(\"adam\",\"human\")"
      ],
      "metadata": {
        "colab": {
          "base_uri": "https://localhost:8080/"
        },
        "id": "0TYxnAERS37p",
        "outputId": "fbedf91d-b8b9-4587-e303-db0dd14697a0"
      },
      "execution_count": 10,
      "outputs": [
        {
          "output_type": "execute_result",
          "data": {
            "text/plain": [
              "0.14338633"
            ]
          },
          "metadata": {},
          "execution_count": 10
        }
      ]
    },
    {
      "cell_type": "code",
      "source": [
        "model.similarity(\"python\",\"java\")"
      ],
      "metadata": {
        "colab": {
          "base_uri": "https://localhost:8080/"
        },
        "id": "mKdlrlFIYtO4",
        "outputId": "c084ea49-10ae-4c9e-dc08-2a357fb2ff32"
      },
      "execution_count": 11,
      "outputs": [
        {
          "output_type": "execute_result",
          "data": {
            "text/plain": [
              "0.12539075"
            ]
          },
          "metadata": {},
          "execution_count": 11
        }
      ]
    },
    {
      "cell_type": "code",
      "source": [
        "model.similarity(\"javascript\",\"java\")"
      ],
      "metadata": {
        "colab": {
          "base_uri": "https://localhost:8080/"
        },
        "id": "QxwfzqKlY_6B",
        "outputId": "8ebdd047-a6eb-4a4c-9258-c7a86cee5bdc"
      },
      "execution_count": 12,
      "outputs": [
        {
          "output_type": "execute_result",
          "data": {
            "text/plain": [
              "0.33437246"
            ]
          },
          "metadata": {},
          "execution_count": 12
        }
      ]
    },
    {
      "cell_type": "code",
      "source": [
        "model.doesnt_match([\"DRUG\",\"FACEBOOK\",\"TWITTER\"])"
      ],
      "metadata": {
        "colab": {
          "base_uri": "https://localhost:8080/",
          "height": 36
        },
        "id": "X9G64h4PZDp0",
        "outputId": "f68da47b-9333-49f4-8cf7-c14be13f25f4"
      },
      "execution_count": 14,
      "outputs": [
        {
          "output_type": "execute_result",
          "data": {
            "text/plain": [
              "'DRUG'"
            ],
            "application/vnd.google.colaboratory.intrinsic+json": {
              "type": "string"
            }
          },
          "metadata": {},
          "execution_count": 14
        }
      ]
    },
    {
      "cell_type": "code",
      "source": [
        "model.doesnt_match([\"LOVE\",\"SEX\",\"BREAKUP\",\"ATTRACTION\"])"
      ],
      "metadata": {
        "colab": {
          "base_uri": "https://localhost:8080/",
          "height": 36
        },
        "id": "kiv2zJr_ZXjT",
        "outputId": "cc6cea31-222d-4500-beb0-1a15d2b2fe75"
      },
      "execution_count": 16,
      "outputs": [
        {
          "output_type": "execute_result",
          "data": {
            "text/plain": [
              "'SEX'"
            ],
            "application/vnd.google.colaboratory.intrinsic+json": {
              "type": "string"
            }
          },
          "metadata": {},
          "execution_count": 16
        }
      ]
    },
    {
      "cell_type": "code",
      "source": [
        "model.doesnt_match([\"LOVE\",\"INTIMATE\",\"BREAKUP\",\"ATTRACTION\"])"
      ],
      "metadata": {
        "colab": {
          "base_uri": "https://localhost:8080/",
          "height": 36
        },
        "id": "JeOpaRtHZlsv",
        "outputId": "1b78c869-bde1-4d4a-c958-8c4af59fef6b"
      },
      "execution_count": 17,
      "outputs": [
        {
          "output_type": "execute_result",
          "data": {
            "text/plain": [
              "'LOVE'"
            ],
            "application/vnd.google.colaboratory.intrinsic+json": {
              "type": "string"
            }
          },
          "metadata": {},
          "execution_count": 17
        }
      ]
    },
    {
      "cell_type": "code",
      "source": [
        "vec = model['king'] - model['man'] + model['woman']"
      ],
      "metadata": {
        "id": "YoxpwwX-Zroc"
      },
      "execution_count": 18,
      "outputs": []
    },
    {
      "cell_type": "code",
      "source": [
        "model.most_similar(vec)"
      ],
      "metadata": {
        "colab": {
          "base_uri": "https://localhost:8080/"
        },
        "id": "FuKVwEZWZ4oQ",
        "outputId": "09908e60-bda4-4fae-861b-d39db3434207"
      },
      "execution_count": 19,
      "outputs": [
        {
          "output_type": "execute_result",
          "data": {
            "text/plain": [
              "[('king', 0.8449392318725586),\n",
              " ('queen', 0.7300517559051514),\n",
              " ('monarch', 0.645466148853302),\n",
              " ('princess', 0.6156251430511475),\n",
              " ('crown_prince', 0.5818676352500916),\n",
              " ('prince', 0.5777117609977722),\n",
              " ('kings', 0.5613663792610168),\n",
              " ('sultan', 0.5376775860786438),\n",
              " ('Queen_Consort', 0.5344247817993164),\n",
              " ('queens', 0.5289887189865112)]"
            ]
          },
          "metadata": {},
          "execution_count": 19
        }
      ]
    },
    {
      "cell_type": "code",
      "source": [],
      "metadata": {
        "id": "TF380zBPZ9nF"
      },
      "execution_count": null,
      "outputs": []
    },
    {
      "cell_type": "markdown",
      "source": [
        "# training own word2vec model"
      ],
      "metadata": {
        "id": "hlfguaqeaLbZ"
      }
    },
    {
      "cell_type": "markdown",
      "source": [
        "https://arxiv.org/pdf/1301.3781"
      ],
      "metadata": {
        "id": "7Dtrq9jWkG7F"
      }
    },
    {
      "cell_type": "code",
      "source": [],
      "metadata": {
        "id": "Rn5--OdeaZZx"
      },
      "execution_count": null,
      "outputs": []
    }
  ]
}